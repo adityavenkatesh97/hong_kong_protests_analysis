{
 "cells": [
  {
   "cell_type": "code",
   "execution_count": 1,
   "metadata": {},
   "outputs": [],
   "source": [
    "import os\n",
    "import re\n",
    "import json \n"
   ]
  },
  {
   "cell_type": "code",
   "execution_count": 20,
   "metadata": {},
   "outputs": [
    {
     "ename": "TabError",
     "evalue": "inconsistent use of tabs and spaces in indentation (<ipython-input-20-6b2673859072>, line 20)",
     "output_type": "error",
     "traceback": [
      "\u001b[0;36m  File \u001b[0;32m\"<ipython-input-20-6b2673859072>\"\u001b[0;36m, line \u001b[0;32m20\u001b[0m\n\u001b[0;31m    if(tweet['user']['id'] not in user_data.keys()):\u001b[0m\n\u001b[0m                                                    ^\u001b[0m\n\u001b[0;31mTabError\u001b[0m\u001b[0;31m:\u001b[0m inconsistent use of tabs and spaces in indentation\n"
     ]
    }
   ],
   "source": [
    "locations = [places for places in os.listdir(\"data\")]\n",
    "#print(locations)\n",
    "\n",
    "key_accounts = []\n",
    "\n",
    "tweets_count = 0\n",
    "user_attributes = [\"id\",\"screen_name\",\"followers_count\",\"friends_count\",\"time_zone\",\"geo_enabled\",\"geo\",\"coordinates\"]\n",
    "\n",
    "user_data = {}\n",
    "\n",
    "hash_counts = dict()\n",
    "for i in locations:\n",
    "\tif i != \".DS_Store\":\n",
    "\t\twith open(\"data/\"+str(i)) as json_data:\n",
    "\t\t\t# print(\"data/\",i)\n",
    "\t\t\tdata = json.load(json_data, strict=False)\n",
    "\t\t\t# x = 0\n",
    "\n",
    "\t\t\tfor tweet in data['statuses']:\n",
    "                if(tweet['user']['id'] not in user_data.keys()):\n",
    "                    user_data[tweet['user']['id']]={\"screen_name\": tweet['user']['screen_name'],\"followers_count\": tweet['user']['followers_count'],\"friends_count\": tweet['user']['friends_count'],\"time_zone\": tweet['user']['time_zone'],\"geo_enabled\": tweet['user']['geo_enabled'],\"geo\": tweet['user']['geo'],\"coordinates\": tweet['user']['coordinates']}\n",
    "                    \n",
    "\t\t\t\tif(tweet['user']['followers_count'] > 300 ):\n",
    "\t\t\t\t\tif(tweet['user']['screen_name'] not in key_accounts):\n",
    "\t\t\t\t\t\tkey_accounts.append(tweet['user']['screen_name']);\n",
    "                \n",
    "#                 tweets_count = tweets_count+1\n",
    "\n",
    "\n",
    "\t\t\t\t# print(tweet)\n",
    "\t\t\t\t# x = x+1\n",
    "\t\t\t\t# if(x==1):\n",
    "\t\t\t\t\t# break\n",
    "\n"
   ]
  },
  {
   "cell_type": "code",
   "execution_count": 4,
   "metadata": {},
   "outputs": [
    {
     "data": {
      "text/plain": [
       "776"
      ]
     },
     "execution_count": 4,
     "metadata": {},
     "output_type": "execute_result"
    }
   ],
   "source": [
    "len(key_accounts)"
   ]
  },
  {
   "cell_type": "code",
   "execution_count": null,
   "metadata": {},
   "outputs": [],
   "source": []
  }
 ],
 "metadata": {
  "kernelspec": {
   "display_name": "Python 3",
   "language": "python",
   "name": "python3"
  },
  "language_info": {
   "codemirror_mode": {
    "name": "ipython",
    "version": 3
   },
   "file_extension": ".py",
   "mimetype": "text/x-python",
   "name": "python",
   "nbconvert_exporter": "python",
   "pygments_lexer": "ipython3",
   "version": "3.7.3"
  }
 },
 "nbformat": 4,
 "nbformat_minor": 2
}
